{
  "nbformat": 4,
  "nbformat_minor": 0,
  "metadata": {
    "colab": {
      "provenance": [],
      "authorship_tag": "ABX9TyMWoohAKuHz3lsGeFCTvxjr",
      "include_colab_link": true
    },
    "kernelspec": {
      "name": "python3",
      "display_name": "Python 3"
    },
    "language_info": {
      "name": "python"
    }
  },
  "cells": [
    {
      "cell_type": "markdown",
      "metadata": {
        "id": "view-in-github",
        "colab_type": "text"
      },
      "source": [
        "<a href=\"https://colab.research.google.com/github/avanniiii/AvaniAgarwal_102303745_UML501/blob/main/Assignment_1.ipynb\" target=\"_parent\"><img src=\"https://colab.research.google.com/assets/colab-badge.svg\" alt=\"Open In Colab\"/></a>"
      ]
    },
    {
      "cell_type": "markdown",
      "source": [
        "Avani Agarwal, 102303745\n"
      ],
      "metadata": {
        "id": "qsiOC0vi6EcL"
      }
    },
    {
      "cell_type": "markdown",
      "source": [
        "Assignment-1"
      ],
      "metadata": {
        "id": "iZTSbnAX6OzB"
      }
    },
    {
      "cell_type": "markdown",
      "source": [
        "Q1: Questions on Basic NumPy Array"
      ],
      "metadata": {
        "id": "UeAyxviE3xAX"
      }
    },
    {
      "cell_type": "markdown",
      "source": [
        "(a) Reverse the NumPy array: arr = np.array([1, 2, 3, 6, 4, 5])"
      ],
      "metadata": {
        "id": "m_kdr1IKcjkc"
      }
    },
    {
      "cell_type": "code",
      "execution_count": 6,
      "metadata": {
        "colab": {
          "base_uri": "https://localhost:8080/"
        },
        "id": "l3Tg--qz3WMN",
        "outputId": "221d1c24-e64e-4964-faa0-59b92a69abbf"
      },
      "outputs": [
        {
          "output_type": "stream",
          "name": "stdout",
          "text": [
            "Reversed Array: [5 4 6 3 2 1]\n"
          ]
        }
      ],
      "source": [
        "import numpy as np\n",
        "arr=np.array([1,2,3,6,4,5])\n",
        "reversed_arr=arr[::-1]\n",
        "print(\"Reversed Array:\",reversed_arr)"
      ]
    },
    {
      "cell_type": "markdown",
      "source": [
        "(b) Flatten the NumPy arr: array1 = np.array([[1, 2, 3], [2, 4, 5], [1, 2, 3]]) using any two NumPy in-built methods\n"
      ],
      "metadata": {
        "id": "UtfRPCzm32BT"
      }
    },
    {
      "cell_type": "code",
      "source": [
        "array1=np.array([[1,2,3],[2,4,5],[1,2,3]])\n",
        "flat1=array1.flatten()\n",
        "print(\"Flatten using flatten():\",flat1)\n",
        "flat2=array1.ravel()\n",
        "print(\"Flatten using ravel():\",flat2)"
      ],
      "metadata": {
        "colab": {
          "base_uri": "https://localhost:8080/"
        },
        "id": "BYjHSleF34yT",
        "outputId": "6aa17abc-1904-428e-d06f-5c3d6cf0083f"
      },
      "execution_count": 7,
      "outputs": [
        {
          "output_type": "stream",
          "name": "stdout",
          "text": [
            "Flatten using flatten(): [1 2 3 2 4 5 1 2 3]\n",
            "Flatten using ravel(): [1 2 3 2 4 5 1 2 3]\n"
          ]
        }
      ]
    },
    {
      "cell_type": "markdown",
      "source": [
        "(c) Compare the following numpy arrays:\n",
        "\n",
        "arr1 = np.array([[1, 2], [3, 4]])\n",
        "\n",
        "arr2 = np.array([[1, 2], [3, 4]])"
      ],
      "metadata": {
        "id": "-S25AFs04NKt"
      }
    },
    {
      "cell_type": "code",
      "source": [
        "arr1=np.array([[1,2],[3,4]])\n",
        "arr2=np.array([[1,2],[3,4]])\n",
        "comp=np.array_equal(arr1,arr2)\n",
        "print(comp)"
      ],
      "metadata": {
        "colab": {
          "base_uri": "https://localhost:8080/"
        },
        "id": "PGeXRnKT4OIk",
        "outputId": "0631641c-36ff-4e33-9991-f03cb1319f11"
      },
      "execution_count": 8,
      "outputs": [
        {
          "output_type": "stream",
          "name": "stdout",
          "text": [
            "True\n"
          ]
        }
      ]
    },
    {
      "cell_type": "markdown",
      "source": [
        "(d) Find the most frequent value and their indice(s) in the following arrays:\n",
        "\n",
        "i. x = np.array([1,2,3,4,5,1,2,1,1,1])\n",
        "\n",
        "ii. y = np.array([1, 1, 1, 2, 3, 4, 2, 4, 3, 3, ])"
      ],
      "metadata": {
        "id": "o-WQOMcA4040"
      }
    },
    {
      "cell_type": "code",
      "source": [
        "#(i)\n",
        "x=np.array([1,2,3,4,5,1,2,1,1,1])\n",
        "vals_x,count_x=np.unique(x,return_counts=True)\n",
        "most_frequent_x=vals_x[np.argmax(count_x)]\n",
        "indices_x=np.where(x==most_frequent_x)[0]\n",
        "print(\"Most frequent value in x:\",most_frequent_x,\"Indices:\",indices_x)\n",
        "\n",
        "\n",
        "#(ii)\n",
        "y=np.array([1,1,1,2,3,4,2,4,3,3])\n",
        "vals_y,count_y=np.unique(y,return_counts=True)\n",
        "most_frequent_y=vals_y[np.argmax(count_y)]\n",
        "indices_y=np.where(y==most_frequent_y)[0]\n",
        "print(\"Most frequent value in y:\",most_frequent_y,\"Indices:\",indices_y)"
      ],
      "metadata": {
        "id": "heffYzzr42BL",
        "colab": {
          "base_uri": "https://localhost:8080/"
        },
        "outputId": "d788cbf6-6920-4595-e227-03d5f1837dfc"
      },
      "execution_count": 10,
      "outputs": [
        {
          "output_type": "stream",
          "name": "stdout",
          "text": [
            "Most frequent value in x: 1 Indices: [0 5 7 8 9]\n",
            "Most frequent value in y: 1 Indices: [0 1 2]\n"
          ]
        }
      ]
    },
    {
      "cell_type": "markdown",
      "source": [
        "(e)For the array gfg = np.matrix('[4, 1, 9; 12, 3, 1; 4, 5, 6]'), find\n",
        "\n",
        "i.   Sum of all elements\n",
        "\n",
        "ii.  Sum of all elements row-wise\n",
        "\n",
        "iii. Sum of all elements column-wise\n",
        "\n",
        "\n",
        "\n"
      ],
      "metadata": {
        "id": "oyLWRdnwdmK5"
      }
    },
    {
      "cell_type": "code",
      "source": [
        "gfg=np.matrix('[4,1,9;12,3,1;4,5,6]')\n",
        "\n",
        "#(i)\n",
        "tot_sum=gfg.sum()\n",
        "print(\"Sum of all elements:\",tot_sum)\n",
        "\n",
        "#(ii)\n",
        "row_sum=gfg.sum(axis=1)\n",
        "print(\"Sum of all elements row-wise:\\n\",row_sum)\n",
        "\n",
        "#(iii)\n",
        "col_sum=gfg.sum(axis=0)\n",
        "print(\"Sum of all elements column-wise:\\n\",col_sum)"
      ],
      "metadata": {
        "colab": {
          "base_uri": "https://localhost:8080/"
        },
        "id": "L-nZ5jb9eIYO",
        "outputId": "1a9c1a3c-79b2-4361-983d-3d2130fa9f0f"
      },
      "execution_count": 12,
      "outputs": [
        {
          "output_type": "stream",
          "name": "stdout",
          "text": [
            "Sum of all elements: 45\n",
            "Sum of all elements row-wise:\n",
            " [[14]\n",
            " [16]\n",
            " [15]]\n",
            "Sum of all elements column-wise:\n",
            " [[20  9 16]]\n"
          ]
        }
      ]
    },
    {
      "cell_type": "markdown",
      "source": [
        "(f)For the matrix: n_array = np.array([[55, 25, 15],[30, 44, 2],[11, 45, 77]]), find\n",
        "\n",
        "i. Sum of diagonal elements\n",
        "\n",
        "ii. Eigen values of matrix\n",
        "\n",
        "iii. Eigen vectors of matrix\n",
        "\n",
        "iv. Inverse of matrix\n",
        "\n",
        "v. Determinant of matrix"
      ],
      "metadata": {
        "id": "TYTrK_O7fRaK"
      }
    },
    {
      "cell_type": "code",
      "source": [
        "n_array=np.array([[55,25,15],[30,44,2],[11,45,77]])\n",
        "\n",
        "#(i)\n",
        "diagonal_sum=np.trace(n_array)\n",
        "print(\"Sum of diagonal elements:\",diagonal_sum)\n",
        "\n",
        "#(ii) (iii)\n",
        "eigen_vals,eigen_vecs=np.linalg.eig(n_array)\n",
        "print(\"Eigen values of matrix:\\n\",eigen_vals)\n",
        "print(\"Eigen vectors of matrix:\\n\",eigen_vecs)\n",
        "\n",
        "#(iv)\n",
        "inv_matrix=np.linalg.inv(n_array)\n",
        "print(\"Inverse of matrix:\\n\",inv_matrix)\n",
        "\n",
        "#(v)\n",
        "det_val=np.linalg.det(n_array)\n",
        "print(\"Determinant of matrix:\",det_val)"
      ],
      "metadata": {
        "colab": {
          "base_uri": "https://localhost:8080/"
        },
        "id": "ATjtgfhMfYl0",
        "outputId": "bd5fee90-e9dc-4f58-c2db-7540c7153403"
      },
      "execution_count": 14,
      "outputs": [
        {
          "output_type": "stream",
          "name": "stdout",
          "text": [
            "Sum of diagonal elements: 176\n",
            "Eigen values of matrix:\n",
            " [98.16835147 28.097044   49.73460452]\n",
            "Eigen vectors of matrix:\n",
            " [[ 0.4574917   0.34637121 -0.15017693]\n",
            " [ 0.28447814 -0.72784061 -0.4852124 ]\n",
            " [ 0.84248058  0.59184038  0.8614034 ]]\n",
            "Inverse of matrix:\n",
            " [[ 0.02404141 -0.00911212 -0.00444671]\n",
            " [-0.01667882  0.02966905  0.0024785 ]\n",
            " [ 0.00631287 -0.01603732  0.01217379]]\n",
            "Determinant of matrix: 137180.0000000001\n"
          ]
        }
      ]
    },
    {
      "cell_type": "markdown",
      "source": [
        "(g)Multiply the following matrices and also find covariance between matrices using NumPy:\n",
        "\n",
        "i. p = [[1, 2], [2, 3]]\n",
        "q = [[4, 5], [6, 7]]\n",
        "\n",
        "ii. p = [[1, 2], [2, 3], [4, 5]]\n",
        "q = [[4, 5, 1], [6, 7, 2]]"
      ],
      "metadata": {
        "id": "qB8FEPZOge2Z"
      }
    },
    {
      "cell_type": "code",
      "source": [
        "#(i)\n",
        "p1=np.array([[1,2],[2,3]])\n",
        "q1=np.array([[4,5],[6,7]])\n",
        "prod1=np.dot(p1,q1)\n",
        "cov1=np.cov(p1,rowvar=False)\n",
        "\n",
        "print(\"Matrix Multiplication1:\\n\",prod1)\n",
        "print(\"Covariance1:\\n\",cov1)\n",
        "\n",
        "#(ii)\n",
        "p2=np.array([[1, 2], [2, 3], [4, 5]])\n",
        "q2=np.array([[4, 5, 1], [6, 7, 2]])\n",
        "prod2=np.dot(p2,q2)\n",
        "cov2=np.cov(p2,rowvar=False)\n",
        "\n",
        "print(\"Matrix Multiplication1:\\n\",prod2)\n",
        "print(\"Covariance1:\\n\",cov2)"
      ],
      "metadata": {
        "colab": {
          "base_uri": "https://localhost:8080/"
        },
        "id": "WBpVzed7glUt",
        "outputId": "2da98959-7cf1-4add-c6d8-fa2c0b04fbb1"
      },
      "execution_count": 16,
      "outputs": [
        {
          "output_type": "stream",
          "name": "stdout",
          "text": [
            "Matrix Multiplication1:\n",
            " [[16 19]\n",
            " [26 31]]\n",
            "Covariance1:\n",
            " [[0.5 0.5]\n",
            " [0.5 0.5]]\n",
            "Matrix Multiplication1:\n",
            " [[16 19  5]\n",
            " [26 31  8]\n",
            " [46 55 14]]\n",
            "Covariance1:\n",
            " [[2.33333333 2.33333333]\n",
            " [2.33333333 2.33333333]]\n"
          ]
        }
      ]
    },
    {
      "cell_type": "markdown",
      "source": [
        "(h)For the matrices: x = np.array([[2, 3, 4], [3, 2, 9]]); y = np.array([[1, 5, 0], [5, 10, 3]]),\n",
        "find inner, outer and cartesian product?"
      ],
      "metadata": {
        "id": "BWZVt25uvUvc"
      }
    },
    {
      "cell_type": "code",
      "source": [
        "x=np.array([[2,3,4],[3,2,9]])\n",
        "y=np.array([[1,5,0],[5,10,3]])\n",
        "\n",
        "#Inner product\n",
        "inner=np.inner(x,y)\n",
        "\n",
        "#Outer product\n",
        "outer=np.outer(x.flatten(),y.flatten())\n",
        "\n",
        "#Cartesian product\n",
        "from itertools import product\n",
        "cartesian=np.array(list(product(x.flatten(),y.flatten())))\n",
        "\n",
        "print(\"Inner:\\n\",inner)\n",
        "print(\"Outer:\\n\",outer)\n",
        "print(\"Cartesian:\\n\",cartesian)"
      ],
      "metadata": {
        "colab": {
          "base_uri": "https://localhost:8080/"
        },
        "id": "fmYKMFEtvbyP",
        "outputId": "73036302-06ab-4574-a2d4-185e21598db5"
      },
      "execution_count": 17,
      "outputs": [
        {
          "output_type": "stream",
          "name": "stdout",
          "text": [
            "Inner:\n",
            " [[17 52]\n",
            " [13 62]]\n",
            "Outer:\n",
            " [[ 2 10  0 10 20  6]\n",
            " [ 3 15  0 15 30  9]\n",
            " [ 4 20  0 20 40 12]\n",
            " [ 3 15  0 15 30  9]\n",
            " [ 2 10  0 10 20  6]\n",
            " [ 9 45  0 45 90 27]]\n",
            "Cartesian:\n",
            " [[ 2  1]\n",
            " [ 2  5]\n",
            " [ 2  0]\n",
            " [ 2  5]\n",
            " [ 2 10]\n",
            " [ 2  3]\n",
            " [ 3  1]\n",
            " [ 3  5]\n",
            " [ 3  0]\n",
            " [ 3  5]\n",
            " [ 3 10]\n",
            " [ 3  3]\n",
            " [ 4  1]\n",
            " [ 4  5]\n",
            " [ 4  0]\n",
            " [ 4  5]\n",
            " [ 4 10]\n",
            " [ 4  3]\n",
            " [ 3  1]\n",
            " [ 3  5]\n",
            " [ 3  0]\n",
            " [ 3  5]\n",
            " [ 3 10]\n",
            " [ 3  3]\n",
            " [ 2  1]\n",
            " [ 2  5]\n",
            " [ 2  0]\n",
            " [ 2  5]\n",
            " [ 2 10]\n",
            " [ 2  3]\n",
            " [ 9  1]\n",
            " [ 9  5]\n",
            " [ 9  0]\n",
            " [ 9  5]\n",
            " [ 9 10]\n",
            " [ 9  3]]\n"
          ]
        }
      ]
    },
    {
      "cell_type": "markdown",
      "source": [
        "Q2: Based on NumPy Mathematics and Statistics"
      ],
      "metadata": {
        "id": "jyQH8eUGzvF1"
      }
    },
    {
      "cell_type": "markdown",
      "source": [
        "(a) For the array: array = np.array([[1, -2, 3],[-4, 5, -6]])\n",
        "\n",
        "i. Find element-wise absolute value\n",
        "\n",
        "ii. Find the 25th, 50th, and 75th percentile of flattened array, for each column, for each\n",
        "row.\n",
        "\n",
        "iii. Mean, Median and Standard Deviation of flattened array, of each column, and\n",
        "each row"
      ],
      "metadata": {
        "id": "D7qrhCxyzwJQ"
      }
    },
    {
      "cell_type": "code",
      "source": [
        "array=np.array([[1,-2,3],[-4,5,-6]])\n",
        "\n",
        "#(i)\n",
        "abs_val=np.abs(array)\n",
        "print(\"Element-wise absolute value:\\n\",abs_val)\n",
        "\n",
        "\n",
        "#(ii)\n",
        "flatten_array=array.flatten()\n",
        "p25=np.percentile(flatten_array,25)\n",
        "p50=np.percentile(flatten_array,50)\n",
        "p75=np.percentile(flatten_array,75)\n",
        "\n",
        "percentile_col=np.percentile(array,[25,50,75],axis=0)\n",
        "percentile_row=np.percentile(array,[25,50,75],axis=1)\n",
        "print(\"Flattened Percentiles: 25% =\", p25, \", 50% =\", p50, \", 75% =\", p75)\n",
        "print(\"Column Percentiles:\\n\", percentile_col)\n",
        "print(\"Row Percentiles:\\n\", percentile_row)\n",
        "\n",
        "#(iii)\n",
        "mean=np.mean(flatten_array)\n",
        "median=np.median(flatten_array)\n",
        "sd=np.std(flatten_array)\n",
        "print(\"Mean:\", mean, \"Median:\", median, \"Standard Deviation:\", sd)"
      ],
      "metadata": {
        "colab": {
          "base_uri": "https://localhost:8080/"
        },
        "id": "ukGcvHS7z1Fs",
        "outputId": "413d3c49-6baa-4472-fb11-967659aa7121"
      },
      "execution_count": 20,
      "outputs": [
        {
          "output_type": "stream",
          "name": "stdout",
          "text": [
            "Element-wise absolute value:\n",
            " [[1 2 3]\n",
            " [4 5 6]]\n",
            "Flattened Percentiles: 25% = -3.5 , 50% = -0.5 , 75% = 2.5\n",
            "Column Percentiles:\n",
            " [[-2.75 -0.25 -3.75]\n",
            " [-1.5   1.5  -1.5 ]\n",
            " [-0.25  3.25  0.75]]\n",
            "Row Percentiles:\n",
            " [[-0.5 -5. ]\n",
            " [ 1.  -4. ]\n",
            " [ 2.   0.5]]\n",
            "Mean: -0.5 Median: -0.5 Standard Deviation: 3.8622100754188224\n"
          ]
        }
      ]
    },
    {
      "cell_type": "markdown",
      "source": [
        "(b) For the array: a = np.array([-1.8, -1.6, -0.5, 0.5,1.6, 1.8, 3.0]). Find floor, ceiling\n",
        "and truncated value, rounded values"
      ],
      "metadata": {
        "id": "GG4oGx14wVMy"
      }
    },
    {
      "cell_type": "code",
      "source": [
        "a=np.array([-1.8,-1.6,-0.5,0.5,1.6,1.8,3.0])\n",
        "\n",
        "print(\"Floor:\",np.floor(a))\n",
        "print(\"Ceil:\",np.ceil(a))\n",
        "print(\"Truncated Value:\",np.trunc(a))\n",
        "print(\"Rounded Values:\",np.round(a))"
      ],
      "metadata": {
        "colab": {
          "base_uri": "https://localhost:8080/"
        },
        "id": "-L-TIDj_wYyQ",
        "outputId": "f3ce8a76-1a8f-4a98-b0fe-d5b4aae6db47"
      },
      "execution_count": 21,
      "outputs": [
        {
          "output_type": "stream",
          "name": "stdout",
          "text": [
            "Floor: [-2. -2. -1.  0.  1.  1.  3.]\n",
            "Ceil: [-1. -1. -0.  1.  2.  2.  3.]\n",
            "Truncated Value: [-1. -1. -0.  0.  1.  1.  3.]\n",
            "Rounded Values: [-2. -2. -0.  0.  2.  2.  3.]\n"
          ]
        }
      ]
    },
    {
      "cell_type": "markdown",
      "source": [
        "Q3: Based on Searching and Sorting"
      ],
      "metadata": {
        "id": "HfytL0zUwuPZ"
      }
    },
    {
      "cell_type": "markdown",
      "source": [
        "(a) For the array: array = np.array([10, 52, 62, 16, 16, 54, 453]), find\n",
        "\n",
        "i. Sorted array\n",
        "\n",
        "ii. Indices of sorted array\n",
        "\n",
        "iii. 4 smallest elements\n",
        "\n",
        "iv. 5 largest elements"
      ],
      "metadata": {
        "id": "yCRVQy6FwxA_"
      }
    },
    {
      "cell_type": "code",
      "source": [
        "arr=np.array([10,52,62,16,16,54,453])\n",
        "\n",
        "#(i)\n",
        "sorted_arr=np.sort(arr)\n",
        "print(\"Sorted array:\", sorted_arr)\n",
        "\n",
        "#(ii)\n",
        "indices=np.argsort(arr)\n",
        "print(\"Indices of sorted array:\", indices)\n",
        "\n",
        "#(iii)\n",
        "smallest=np.sort(arr)[:4]\n",
        "print(\"4 Smallest elements:\", smallest)\n",
        "\n",
        "#(iv)\n",
        "largest=np.sort(arr)[-5:]\n",
        "print(\"5 Largest elements:\", largest)"
      ],
      "metadata": {
        "colab": {
          "base_uri": "https://localhost:8080/"
        },
        "id": "3GlWWIjjw61A",
        "outputId": "b0bef2b9-03ed-4c02-e086-f7d19da11f57"
      },
      "execution_count": 22,
      "outputs": [
        {
          "output_type": "stream",
          "name": "stdout",
          "text": [
            "Sorted array: [ 10  16  16  52  54  62 453]\n",
            "Indices of sorted array: [0 3 4 1 5 2 6]\n",
            "4 Smallest elements: [10 16 16 52]\n",
            "5 Largest elements: [ 16  52  54  62 453]\n"
          ]
        }
      ]
    },
    {
      "cell_type": "markdown",
      "source": [
        "(b) For the array: array = np.array([1.0, 1.2, 2.2, 2.0, 3.0, 2.0]), find\n",
        "\n",
        "i. Integer elements only\n",
        "\n",
        "ii. Float elements only"
      ],
      "metadata": {
        "id": "5AxVJFQXx52G"
      }
    },
    {
      "cell_type": "code",
      "source": [
        "arr=np.array([1.0, 1.2, 2.2, 2.0, 3.0, 2.0])\n",
        "\n",
        "#(i)\n",
        "int_elements=array[arr == arr.astype(int)]\n",
        "print(\"Integer Elements:\", int_elements)\n",
        "\n",
        "\n",
        "#(ii)\n",
        "float_elements=array[arr != arr.astype(int)]\n",
        "print(\"Float Elements:\", float_elements)"
      ],
      "metadata": {
        "colab": {
          "base_uri": "https://localhost:8080/"
        },
        "id": "76I4WeZtyEha",
        "outputId": "5552170e-21b7-44cc-b28d-324afe6f73d0"
      },
      "execution_count": 27,
      "outputs": [
        {
          "output_type": "stream",
          "name": "stdout",
          "text": [
            "Integer Elements: [1. 2. 3. 2.]\n",
            "Float Elements: [1.2 2.2]\n"
          ]
        }
      ]
    },
    {
      "cell_type": "markdown",
      "source": [
        "Q4:\n",
        "\n",
        "(a) Write a function named img_to_array(path) that reads an image from a specified path and\n",
        "save it as text file on local machine? (Note: use separate cases for RGB and Grey Scale\n",
        "images)"
      ],
      "metadata": {
        "id": "3-ETPUMwy9l_"
      }
    },
    {
      "cell_type": "code",
      "source": [
        "from google.colab import files\n",
        "uploaded = files.upload()"
      ],
      "metadata": {
        "colab": {
          "base_uri": "https://localhost:8080/",
          "height": 74
        },
        "id": "z1IWODzscgp9",
        "outputId": "1bec547c-d801-4ca0-8434-5c3f4121de81"
      },
      "execution_count": 43,
      "outputs": [
        {
          "output_type": "display_data",
          "data": {
            "text/plain": [
              "<IPython.core.display.HTML object>"
            ],
            "text/html": [
              "\n",
              "     <input type=\"file\" id=\"files-ff708295-a9f3-4354-b6b7-960812e8c9a1\" name=\"files[]\" multiple disabled\n",
              "        style=\"border:none\" />\n",
              "     <output id=\"result-ff708295-a9f3-4354-b6b7-960812e8c9a1\">\n",
              "      Upload widget is only available when the cell has been executed in the\n",
              "      current browser session. Please rerun this cell to enable.\n",
              "      </output>\n",
              "      <script>// Copyright 2017 Google LLC\n",
              "//\n",
              "// Licensed under the Apache License, Version 2.0 (the \"License\");\n",
              "// you may not use this file except in compliance with the License.\n",
              "// You may obtain a copy of the License at\n",
              "//\n",
              "//      http://www.apache.org/licenses/LICENSE-2.0\n",
              "//\n",
              "// Unless required by applicable law or agreed to in writing, software\n",
              "// distributed under the License is distributed on an \"AS IS\" BASIS,\n",
              "// WITHOUT WARRANTIES OR CONDITIONS OF ANY KIND, either express or implied.\n",
              "// See the License for the specific language governing permissions and\n",
              "// limitations under the License.\n",
              "\n",
              "/**\n",
              " * @fileoverview Helpers for google.colab Python module.\n",
              " */\n",
              "(function(scope) {\n",
              "function span(text, styleAttributes = {}) {\n",
              "  const element = document.createElement('span');\n",
              "  element.textContent = text;\n",
              "  for (const key of Object.keys(styleAttributes)) {\n",
              "    element.style[key] = styleAttributes[key];\n",
              "  }\n",
              "  return element;\n",
              "}\n",
              "\n",
              "// Max number of bytes which will be uploaded at a time.\n",
              "const MAX_PAYLOAD_SIZE = 100 * 1024;\n",
              "\n",
              "function _uploadFiles(inputId, outputId) {\n",
              "  const steps = uploadFilesStep(inputId, outputId);\n",
              "  const outputElement = document.getElementById(outputId);\n",
              "  // Cache steps on the outputElement to make it available for the next call\n",
              "  // to uploadFilesContinue from Python.\n",
              "  outputElement.steps = steps;\n",
              "\n",
              "  return _uploadFilesContinue(outputId);\n",
              "}\n",
              "\n",
              "// This is roughly an async generator (not supported in the browser yet),\n",
              "// where there are multiple asynchronous steps and the Python side is going\n",
              "// to poll for completion of each step.\n",
              "// This uses a Promise to block the python side on completion of each step,\n",
              "// then passes the result of the previous step as the input to the next step.\n",
              "function _uploadFilesContinue(outputId) {\n",
              "  const outputElement = document.getElementById(outputId);\n",
              "  const steps = outputElement.steps;\n",
              "\n",
              "  const next = steps.next(outputElement.lastPromiseValue);\n",
              "  return Promise.resolve(next.value.promise).then((value) => {\n",
              "    // Cache the last promise value to make it available to the next\n",
              "    // step of the generator.\n",
              "    outputElement.lastPromiseValue = value;\n",
              "    return next.value.response;\n",
              "  });\n",
              "}\n",
              "\n",
              "/**\n",
              " * Generator function which is called between each async step of the upload\n",
              " * process.\n",
              " * @param {string} inputId Element ID of the input file picker element.\n",
              " * @param {string} outputId Element ID of the output display.\n",
              " * @return {!Iterable<!Object>} Iterable of next steps.\n",
              " */\n",
              "function* uploadFilesStep(inputId, outputId) {\n",
              "  const inputElement = document.getElementById(inputId);\n",
              "  inputElement.disabled = false;\n",
              "\n",
              "  const outputElement = document.getElementById(outputId);\n",
              "  outputElement.innerHTML = '';\n",
              "\n",
              "  const pickedPromise = new Promise((resolve) => {\n",
              "    inputElement.addEventListener('change', (e) => {\n",
              "      resolve(e.target.files);\n",
              "    });\n",
              "  });\n",
              "\n",
              "  const cancel = document.createElement('button');\n",
              "  inputElement.parentElement.appendChild(cancel);\n",
              "  cancel.textContent = 'Cancel upload';\n",
              "  const cancelPromise = new Promise((resolve) => {\n",
              "    cancel.onclick = () => {\n",
              "      resolve(null);\n",
              "    };\n",
              "  });\n",
              "\n",
              "  // Wait for the user to pick the files.\n",
              "  const files = yield {\n",
              "    promise: Promise.race([pickedPromise, cancelPromise]),\n",
              "    response: {\n",
              "      action: 'starting',\n",
              "    }\n",
              "  };\n",
              "\n",
              "  cancel.remove();\n",
              "\n",
              "  // Disable the input element since further picks are not allowed.\n",
              "  inputElement.disabled = true;\n",
              "\n",
              "  if (!files) {\n",
              "    return {\n",
              "      response: {\n",
              "        action: 'complete',\n",
              "      }\n",
              "    };\n",
              "  }\n",
              "\n",
              "  for (const file of files) {\n",
              "    const li = document.createElement('li');\n",
              "    li.append(span(file.name, {fontWeight: 'bold'}));\n",
              "    li.append(span(\n",
              "        `(${file.type || 'n/a'}) - ${file.size} bytes, ` +\n",
              "        `last modified: ${\n",
              "            file.lastModifiedDate ? file.lastModifiedDate.toLocaleDateString() :\n",
              "                                    'n/a'} - `));\n",
              "    const percent = span('0% done');\n",
              "    li.appendChild(percent);\n",
              "\n",
              "    outputElement.appendChild(li);\n",
              "\n",
              "    const fileDataPromise = new Promise((resolve) => {\n",
              "      const reader = new FileReader();\n",
              "      reader.onload = (e) => {\n",
              "        resolve(e.target.result);\n",
              "      };\n",
              "      reader.readAsArrayBuffer(file);\n",
              "    });\n",
              "    // Wait for the data to be ready.\n",
              "    let fileData = yield {\n",
              "      promise: fileDataPromise,\n",
              "      response: {\n",
              "        action: 'continue',\n",
              "      }\n",
              "    };\n",
              "\n",
              "    // Use a chunked sending to avoid message size limits. See b/62115660.\n",
              "    let position = 0;\n",
              "    do {\n",
              "      const length = Math.min(fileData.byteLength - position, MAX_PAYLOAD_SIZE);\n",
              "      const chunk = new Uint8Array(fileData, position, length);\n",
              "      position += length;\n",
              "\n",
              "      const base64 = btoa(String.fromCharCode.apply(null, chunk));\n",
              "      yield {\n",
              "        response: {\n",
              "          action: 'append',\n",
              "          file: file.name,\n",
              "          data: base64,\n",
              "        },\n",
              "      };\n",
              "\n",
              "      let percentDone = fileData.byteLength === 0 ?\n",
              "          100 :\n",
              "          Math.round((position / fileData.byteLength) * 100);\n",
              "      percent.textContent = `${percentDone}% done`;\n",
              "\n",
              "    } while (position < fileData.byteLength);\n",
              "  }\n",
              "\n",
              "  // All done.\n",
              "  yield {\n",
              "    response: {\n",
              "      action: 'complete',\n",
              "    }\n",
              "  };\n",
              "}\n",
              "\n",
              "scope.google = scope.google || {};\n",
              "scope.google.colab = scope.google.colab || {};\n",
              "scope.google.colab._files = {\n",
              "  _uploadFiles,\n",
              "  _uploadFilesContinue,\n",
              "};\n",
              "})(self);\n",
              "</script> "
            ]
          },
          "metadata": {}
        },
        {
          "output_type": "stream",
          "name": "stdout",
          "text": [
            "Saving flowerr.png to flowerr (2).png\n"
          ]
        }
      ]
    },
    {
      "cell_type": "code",
      "source": [
        "from PIL import Image\n",
        "import numpy as np\n",
        "\n",
        "def img_to_array(path):\n",
        "    img = Image.open(path)\n",
        "\n",
        "    arr = np.array(img)\n",
        "\n",
        "    if arr.ndim == 2:\n",
        "        print(\"Grayscale Image Detected\")\n",
        "    elif arr.ndim == 3:\n",
        "        print(\"RGB Image Detected\")\n",
        "    else:\n",
        "        print(\"Unknown format\")\n",
        "\n",
        "    np.savetxt(\"image_array.txt\", arr.reshape(-1, arr.shape[-1]) if arr.ndim == 3 else arr, fmt='%d')\n",
        "    print(\"Saved as image_array.txt\")\n",
        "\n",
        "img_to_array(\"flowerr.png\")"
      ],
      "metadata": {
        "colab": {
          "base_uri": "https://localhost:8080/"
        },
        "id": "SX9bj1Cacmtu",
        "outputId": "8f694047-d3a6-4156-f779-552d1eeab916"
      },
      "execution_count": 44,
      "outputs": [
        {
          "output_type": "stream",
          "name": "stdout",
          "text": [
            "RGB Image Detected\n",
            "Saved as image_array.txt\n"
          ]
        }
      ]
    },
    {
      "cell_type": "markdown",
      "source": [
        "(b) Load the saved file into jupyter notebook?"
      ],
      "metadata": {
        "id": "A7EFe0jzc42n"
      }
    },
    {
      "cell_type": "code",
      "source": [
        "loaded = np.loadtxt(\"image_array.txt\", dtype=int)\n",
        "\n",
        "print(\"Loaded array shape:\", loaded.shape)\n",
        "print(loaded)"
      ],
      "metadata": {
        "colab": {
          "base_uri": "https://localhost:8080/"
        },
        "id": "VIzbL0e3czJB",
        "outputId": "5eb42527-5649-4d68-a318-d6b449ce822d"
      },
      "execution_count": 45,
      "outputs": [
        {
          "output_type": "stream",
          "name": "stdout",
          "text": [
            "Loaded array shape: (252824, 4)\n",
            "[[181 189 209 255]\n",
            " [182 191 209 255]\n",
            " [183 191 209 255]\n",
            " ...\n",
            " [ 16  33   4 255]\n",
            " [ 27  57  56 255]\n",
            " [ 47 104 131 255]]\n"
          ]
        }
      ]
    }
  ]
}